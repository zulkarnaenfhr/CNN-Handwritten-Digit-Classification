{
  "cells": [
    {
      "cell_type": "code",
      "execution_count": 1,
      "metadata": {
        "id": "CDdtnjzc-Zuc"
      },
      "outputs": [],
      "source": [
        "import tensorflow as tf   "
      ]
    },
    {
      "cell_type": "code",
      "execution_count": 2,
      "metadata": {
        "id": "4MAblB-k_C1F"
      },
      "outputs": [],
      "source": [
        "mnist = tf.keras.datasets.mnist"
      ]
    },
    {
      "cell_type": "markdown",
      "metadata": {
        "id": "XPBvq1gn_fOQ"
      },
      "source": [
        "After Loading dataset, kemudian kita split antara data train dan data test"
      ]
    },
    {
      "cell_type": "code",
      "execution_count": 3,
      "metadata": {
        "id": "x21d5enf_dUs"
      },
      "outputs": [],
      "source": [
        "## unpacking the dataset into train and test datasets\n",
        "(x_train,y_train),(x_test,y_test) = mnist.load_data()"
      ]
    },
    {
      "cell_type": "markdown",
      "metadata": {
        "id": "K5sEaG3v_8RZ"
      },
      "source": [
        "jadi disini tuh ada 2 data, data testing sama data training\n",
        "yang dilakukan adalah melakukan pemisahan antara features dan target"
      ]
    },
    {
      "cell_type": "code",
      "execution_count": 4,
      "metadata": {
        "colab": {
          "base_uri": "https://localhost:8080/"
        },
        "id": "-UMuvhVz_x08",
        "outputId": "b5657cbb-28d8-42bf-d470-f5742e42e4f0"
      },
      "outputs": [
        {
          "name": "stdout",
          "output_type": "stream",
          "text": [
            "(60000, 28, 28)\n",
            "(60000,)\n",
            "(10000, 28, 28)\n",
            "(10000,)\n"
          ]
        }
      ],
      "source": [
        "print(x_train.shape)\n",
        "print(y_train.shape)\n",
        "print(x_test.shape)\n",
        "print(y_test.shape)"
      ]
    },
    {
      "cell_type": "code",
      "execution_count": 5,
      "metadata": {
        "colab": {
          "base_uri": "https://localhost:8080/",
          "height": 531
        },
        "id": "ZL3mnJXbgaE9",
        "outputId": "996b2924-ebf3-4e5f-d7cb-c546034e3df6"
      },
      "outputs": [
        {
          "data": {
            "image/png": "[encoded data removed]",
            "text/plain": [
              "<Figure size 432x288 with 1 Axes>"
            ]
          },
          "metadata": {
            "needs_background": "light"
          },
          "output_type": "display_data"
        }
      ],
      "source": [
        "import matplotlib.pyplot as plt\n",
        "plt.imshow(x_train[0])\n",
        "plt.show() #coba printshow"
      ]
    },
    {
      "cell_type": "markdown",
      "metadata": {
        "id": "ygH2C5XihVvI"
      },
      "source": [
        "Checking the values of each pixel, before normalization"
      ]
    },
    {
      "cell_type": "code",
      "execution_count": 6,
      "metadata": {
        "colab": {
          "base_uri": "https://localhost:8080/"
        },
        "id": "kshbMUVg18Cq",
        "outputId": "85b703d6-8e7b-4d1b-8728-b0b9c67a41b7"
      },
      "outputs": [
        {
          "name": "stdout",
          "output_type": "stream",
          "text": [
            "(28, 28)\n"
          ]
        }
      ],
      "source": [
        "print(x_train[0].shape)"
      ]
    },
    {
      "cell_type": "markdown",
      "metadata": {
        "id": "bPcDkB-GhfEF"
      },
      "source": [
        "Do Normalization, jadi ini nantinya akan mengganti range 0 ->255 ke 0->1"
      ]
    },
    {
      "cell_type": "code",
      "execution_count": 7,
      "metadata": {
        "colab": {
          "base_uri": "https://localhost:8080/",
          "height": 283
        },
        "id": "ah5Ax2LOhnYV",
        "outputId": "6640c2fe-ad1a-4434-cca9-499c1bdb6903"
      },
      "outputs": [
        {
          "data": {
            "text/plain": [
              "<matplotlib.image.AxesImage at 0x2cc4085cac8>"
            ]
          },
          "execution_count": 7,
          "metadata": {},
          "output_type": "execute_result"
        },
        {
          "data": {
            "image/png": "[encoded data removed]",
            "text/plain": [
              "<Figure size 432x288 with 1 Axes>"
            ]
          },
          "metadata": {
            "needs_background": "light"
          },
          "output_type": "display_data"
        }
      ],
      "source": [
        "x_train = tf.keras.utils.normalize (x_train,axis =1)\n",
        "x_test = tf.keras.utils.normalize (x_test,axis =1)\n",
        "plt.imshow(x_train[0])"
      ]
    },
    {
      "cell_type": "markdown",
      "metadata": {
        "id": "fkWCb-kUiOuG"
      },
      "source": [
        "Resizing image to make it suitable for apply convolution operation"
      ]
    },
    {
      "cell_type": "code",
      "execution_count": 8,
      "metadata": {
        "colab": {
          "base_uri": "https://localhost:8080/"
        },
        "id": "t2_3OQFNiS9d",
        "outputId": "9994d21b-e6a4-49ba-f6ad-2f5ee913101b"
      },
      "outputs": [
        {
          "name": "stdout",
          "output_type": "stream",
          "text": [
            "(28, 28, 1)\n",
            "(10000, 28, 28, 1)\n",
            "parameter diatas berarti ada (60ribu array,28 pixel horizontal, 28 pixel vertical,1 increasing dimension for kernel operation\n"
          ]
        }
      ],
      "source": [
        "import numpy as np\n",
        "img_size = 28\n",
        "x_trainr=np.array(x_train).reshape(-1,img_size,img_size,1)\n",
        "x_testr=np.array(x_test).reshape(-1,img_size,img_size,1)\n",
        "print(x_trainr[0].shape)\n",
        "print(x_testr.shape)\n",
        "print(\"parameter diatas berarti ada (60ribu array,28 pixel horizontal, 28 pixel vertical,1 increasing dimension for kernel operation\")"
      ]
    },
    {
      "cell_type": "markdown",
      "metadata": {
        "id": "rmqnHpNpjyH9"
      },
      "source": [
        "Creating a Deep Neural network"
      ]
    },
    {
      "cell_type": "code",
      "execution_count": 9,
      "metadata": {
        "id": "sQlCBIj8j1nL"
      },
      "outputs": [],
      "source": [
        "from tensorflow.keras.models import Sequential\n",
        "from tensorflow.keras.layers import Dense,Dropout,Activation,Flatten,Conv2D,MaxPooling2D"
      ]
    },
    {
      "cell_type": "code",
      "execution_count": 10,
      "metadata": {
        "id": "cHPhUW2Qj1o0"
      },
      "outputs": [],
      "source": [
        "model = Sequential()\n",
        "\n",
        "#first convolution layer\n",
        "model.add(Conv2D(64,(3,3),input_shape = x_trainr.shape[1:]))\n",
        "model.add(Activation(\"relu\")) #activation function to make it non-linear\n",
        "model.add(MaxPooling2D(pool_size=(2,2)))\n",
        "\n",
        "# Fully Connected Layer 1\n",
        "model.add (Flatten())\n",
        "model.add(Dense(10))\n",
        "model.add(Activation('softmax'))"
      ]
    },
    {
      "cell_type": "code",
      "execution_count": 11,
      "metadata": {
        "colab": {
          "base_uri": "https://localhost:8080/"
        },
        "id": "CbPK7DPzmF2t",
        "outputId": "9d8a5235-d3de-49e4-fbfc-d17ef5931311"
      },
      "outputs": [
        {
          "name": "stdout",
          "output_type": "stream",
          "text": [
            "Model: \"sequential\"\n",
            "_________________________________________________________________\n",
            " Layer (type)                Output Shape              Param #   \n",
            "=================================================================\n",
            " conv2d (Conv2D)             (None, 26, 26, 64)        640       \n",
            "                                                                 \n",
            " activation (Activation)     (None, 26, 26, 64)        0         \n",
            "                                                                 \n",
            " max_pooling2d (MaxPooling2D  (None, 13, 13, 64)       0         \n",
            " )                                                               \n",
            "                                                                 \n",
            " flatten (Flatten)           (None, 10816)             0         \n",
            "                                                                 \n",
            " dense (Dense)               (None, 10)                108170    \n",
            "                                                                 \n",
            " activation_1 (Activation)   (None, 10)                0         \n",
            "                                                                 \n",
            "=================================================================\n",
            "Total params: 108,810\n",
            "Trainable params: 108,810\n",
            "Non-trainable params: 0\n",
            "_________________________________________________________________\n"
          ]
        }
      ],
      "source": [
        "model.summary()"
      ]
    },
    {
      "cell_type": "code",
      "execution_count": 12,
      "metadata": {
        "colab": {
          "base_uri": "https://localhost:8080/"
        },
        "id": "DtkIFaV0n99E",
        "outputId": "007b2764-548e-40d6-e395-09a8ff8546b5"
      },
      "outputs": [
        {
          "name": "stdout",
          "output_type": "stream",
          "text": [
            "60000\n"
          ]
        }
      ],
      "source": [
        "print(len(x_trainr))"
      ]
    },
    {
      "cell_type": "code",
      "execution_count": 13,
      "metadata": {
        "id": "V0ahxSU2oTCk"
      },
      "outputs": [],
      "source": [
        "model.compile(loss = \"sparse_categorical_crossentropy\",optimizer=\"adam\",metrics=['accuracy'])"
      ]
    },
    {
      "cell_type": "code",
      "execution_count": 14,
      "metadata": {
        "colab": {
          "base_uri": "https://localhost:8080/"
        },
        "id": "pfa3YX7AoeyM",
        "outputId": "355d8ad8-2295-4dea-e3d5-49ddf25c0a3f"
      },
      "outputs": [
        {
          "name": "stdout",
          "output_type": "stream",
          "text": [
            "Epoch 1/10\n",
            "1313/1313 [==============================] - 22s 17ms/step - loss: 0.2984 - accuracy: 0.9152 - val_loss: 0.1479 - val_accuracy: 0.9580\n",
            "Epoch 2/10\n",
            "1313/1313 [==============================] - 27s 20ms/step - loss: 0.1110 - accuracy: 0.9685 - val_loss: 0.1043 - val_accuracy: 0.9689\n",
            "Epoch 3/10\n",
            "1313/1313 [==============================] - 18s 14ms/step - loss: 0.0806 - accuracy: 0.9766 - val_loss: 0.0915 - val_accuracy: 0.9733\n",
            "Epoch 4/10\n",
            "1313/1313 [==============================] - 25s 19ms/step - loss: 0.0660 - accuracy: 0.9809 - val_loss: 0.0893 - val_accuracy: 0.9730\n",
            "Epoch 5/10\n",
            "1313/1313 [==============================] - 20s 15ms/step - loss: 0.0562 - accuracy: 0.9828 - val_loss: 0.0819 - val_accuracy: 0.9755\n",
            "Epoch 6/10\n",
            "1313/1313 [==============================] - 16s 12ms/step - loss: 0.0480 - accuracy: 0.9860 - val_loss: 0.0936 - val_accuracy: 0.9712\n",
            "Epoch 7/10\n",
            "1313/1313 [==============================] - 17s 13ms/step - loss: 0.0416 - accuracy: 0.9871 - val_loss: 0.0814 - val_accuracy: 0.9757\n",
            "Epoch 8/10\n",
            "1313/1313 [==============================] - 18s 13ms/step - loss: 0.0364 - accuracy: 0.9888 - val_loss: 0.0886 - val_accuracy: 0.9733\n",
            "Epoch 9/10\n",
            "1313/1313 [==============================] - 18s 13ms/step - loss: 0.0316 - accuracy: 0.9899 - val_loss: 0.0798 - val_accuracy: 0.9762\n",
            "Epoch 10/10\n",
            "1313/1313 [==============================] - 22s 17ms/step - loss: 0.0267 - accuracy: 0.9922 - val_loss: 0.0827 - val_accuracy: 0.9754\n"
          ]
        },
        {
          "data": {
            "text/plain": [
              "<keras.callbacks.History at 0x2cc40b24f08>"
            ]
          },
          "execution_count": 14,
          "metadata": {},
          "output_type": "execute_result"
        }
      ],
      "source": [
        "model.fit(x_trainr,y_train,epochs =10,validation_split=0.3)"
      ]
    },
    {
      "cell_type": "code",
      "execution_count": 15,
      "metadata": {
        "colab": {
          "base_uri": "https://localhost:8080/"
        },
        "id": "jMozSTsdpCSc",
        "outputId": "07ca0edb-575d-482d-dfb9-2862c2726916"
      },
      "outputs": [
        {
          "name": "stdout",
          "output_type": "stream",
          "text": [
            "313/313 [==============================] - 2s 6ms/step - loss: 0.0772 - accuracy: 0.9770\n",
            "0.07722797989845276\n",
            "0.9769999980926514\n"
          ]
        }
      ],
      "source": [
        "test_loss,test_acc = model.evaluate(x_testr,y_test)\n",
        "print(test_loss)\n",
        "print(test_acc)"
      ]
    },
    {
      "cell_type": "code",
      "execution_count": 16,
      "metadata": {
        "id": "gDJaAECC1E95"
      },
      "outputs": [],
      "source": [
        "predictions = model.predict([x_testr])"
      ]
    },
    {
      "cell_type": "code",
      "execution_count": 17,
      "metadata": {
        "colab": {
          "base_uri": "https://localhost:8080/"
        },
        "id": "wfe98dEU1NaY",
        "outputId": "95af22dc-8cb0-423e-9c6a-dacbded95519"
      },
      "outputs": [
        {
          "name": "stdout",
          "output_type": "stream",
          "text": [
            "[[1.3140901e-10 4.9148940e-07 5.7157681e-08 ... 9.9999619e-01\n",
            "  1.7342575e-07 7.1626908e-07]\n",
            " [2.3343443e-08 5.3383893e-04 9.9756795e-01 ... 1.3503038e-12\n",
            "  1.6285358e-07 2.7623641e-12]\n",
            " [4.0052964e-07 9.9998116e-01 3.0571690e-07 ... 3.2078098e-08\n",
            "  9.0449421e-06 1.0725667e-09]\n",
            " ...\n",
            " [8.5619723e-12 1.4873968e-08 2.4600397e-10 ... 7.1559845e-07\n",
            "  1.4956141e-06 1.1328525e-05]\n",
            " [8.4614059e-11 2.9299649e-09 3.2942826e-11 ... 8.8860475e-08\n",
            "  4.0008463e-03 8.6024643e-10]\n",
            " [5.8973715e-09 2.7911886e-09 5.2516032e-07 ... 7.8151992e-11\n",
            "  3.0156485e-08 2.0992859e-13]]\n"
          ]
        }
      ],
      "source": [
        "print(predictions)"
      ]
    },
    {
      "cell_type": "code",
      "execution_count": 18,
      "metadata": {
        "colab": {
          "base_uri": "https://localhost:8080/",
          "height": 283
        },
        "id": "ku7Eg4Of1XTV",
        "outputId": "bc5ae36f-9d58-4371-b637-23ef68582363"
      },
      "outputs": [
        {
          "data": {
            "text/plain": [
              "<matplotlib.image.AxesImage at 0x2cc40b89e08>"
            ]
          },
          "execution_count": 18,
          "metadata": {},
          "output_type": "execute_result"
        },
        {
          "data": {
            "image/png": "[encoded data removed]",
            "text/plain": [
              "<Figure size 432x288 with 1 Axes>"
            ]
          },
          "metadata": {
            "needs_background": "light"
          },
          "output_type": "display_data"
        }
      ],
      "source": [
        "plt.imshow(x_test[214])"
      ]
    },
    {
      "cell_type": "code",
      "execution_count": 19,
      "metadata": {
        "colab": {
          "base_uri": "https://localhost:8080/"
        },
        "id": "mysI9KBI1Svh",
        "outputId": "b799ea84-c8ec-49d9-fbae-527e90919d1d"
      },
      "outputs": [
        {
          "name": "stdout",
          "output_type": "stream",
          "text": [
            "7\n"
          ]
        }
      ],
      "source": [
        "print(np.argmax(predictions[0]))"
      ]
    },
    {
      "cell_type": "code",
      "execution_count": 20,
      "metadata": {
        "id": "KLLJR8zZwVhg"
      },
      "outputs": [],
      "source": [
        "import cv2"
      ]
    },
    {
      "cell_type": "code",
      "execution_count": 21,
      "metadata": {
        "id": "mM9oZGWfwfLl"
      },
      "outputs": [],
      "source": [
        "img = cv2.imread('tujuh.png')"
      ]
    },
    {
      "cell_type": "code",
      "execution_count": 22,
      "metadata": {
        "colab": {
          "base_uri": "https://localhost:8080/",
          "height": 287
        },
        "id": "WCbbvnCkwpFW",
        "outputId": "d7d5efac-7f8e-4a47-d25f-2bac8208858b"
      },
      "outputs": [
        {
          "data": {
            "text/plain": [
              "<matplotlib.image.AxesImage at 0x2cc42042808>"
            ]
          },
          "execution_count": 22,
          "metadata": {},
          "output_type": "execute_result"
        },
        {
          "data": {
            "image/png": "[encoded data removed]",
            "text/plain": [
              "<Figure size 432x288 with 1 Axes>"
            ]
          },
          "metadata": {
            "needs_background": "light"
          },
          "output_type": "display_data"
        }
      ],
      "source": [
        "plt.imshow(img)"
      ]
    },
    {
      "cell_type": "code",
      "execution_count": 23,
      "metadata": {
        "colab": {
          "base_uri": "https://localhost:8080/"
        },
        "id": "kVG0gc9WxdlG",
        "outputId": "51cc1073-40f2-46f3-983a-ef57dad8b629"
      },
      "outputs": [
        {
          "name": "stdout",
          "output_type": "stream",
          "text": [
            "(122, 122, 3)\n"
          ]
        }
      ],
      "source": [
        "print(img.shape)"
      ]
    },
    {
      "cell_type": "code",
      "execution_count": 24,
      "metadata": {
        "id": "fM_7Zn8Hxqza"
      },
      "outputs": [],
      "source": [
        "imggray = cv2.cvtColor(img, cv2.COLOR_BGR2GRAY)"
      ]
    },
    {
      "cell_type": "code",
      "execution_count": 25,
      "metadata": {},
      "outputs": [
        {
          "data": {
            "text/plain": [
              "<matplotlib.image.AxesImage at 0x2cc42016088>"
            ]
          },
          "execution_count": 25,
          "metadata": {},
          "output_type": "execute_result"
        },
        {
          "data": {
            "image/png": "[encoded data removed]",
            "text/plain": [
              "<Figure size 432x288 with 1 Axes>"
            ]
          },
          "metadata": {
            "needs_background": "light"
          },
          "output_type": "display_data"
        }
      ],
      "source": [
        "plt.imshow(imggray)"
      ]
    },
    {
      "cell_type": "code",
      "execution_count": 26,
      "metadata": {
        "colab": {
          "base_uri": "https://localhost:8080/"
        },
        "id": "x1xJUzfHyHAv",
        "outputId": "5e40b00e-c209-417b-964b-36a01e7dca6a"
      },
      "outputs": [
        {
          "data": {
            "text/plain": [
              "(122, 122)"
            ]
          },
          "execution_count": 26,
          "metadata": {},
          "output_type": "execute_result"
        }
      ],
      "source": [
        "imggray.shape"
      ]
    },
    {
      "cell_type": "code",
      "execution_count": 27,
      "metadata": {},
      "outputs": [],
      "source": [
        "resizedimg = cv2.resize(imggray,(28,28))"
      ]
    },
    {
      "cell_type": "code",
      "execution_count": 28,
      "metadata": {},
      "outputs": [
        {
          "data": {
            "text/plain": [
              "<matplotlib.image.AxesImage at 0x2cc47a2aa88>"
            ]
          },
          "execution_count": 28,
          "metadata": {},
          "output_type": "execute_result"
        },
        {
          "data": {
            "image/png": "[encoded data removed]",
            "text/plain": [
              "<Figure size 432x288 with 1 Axes>"
            ]
          },
          "metadata": {
            "needs_background": "light"
          },
          "output_type": "display_data"
        }
      ],
      "source": [
        "plt.imshow(resizedimg)"
      ]
    },
    {
      "cell_type": "code",
      "execution_count": 29,
      "metadata": {},
      "outputs": [],
      "source": [
        "resizedimgnormalization = tf.keras.utils.normalize (resizedimg,axis =1)"
      ]
    },
    {
      "cell_type": "code",
      "execution_count": 30,
      "metadata": {
        "id": "WDc8jMPJyvJQ"
      },
      "outputs": [],
      "source": [
        "resizedimgnormalization2=np.array(resizedimgnormalization).reshape(-1,img_size,img_size,1)\n"
      ]
    },
    {
      "cell_type": "code",
      "execution_count": 31,
      "metadata": {
        "colab": {
          "base_uri": "https://localhost:8080/"
        },
        "id": "gNLLjFkzzCGM",
        "outputId": "929773fd-44f4-4629-d2a2-2da88d5b6dcb"
      },
      "outputs": [
        {
          "data": {
            "text/plain": [
              "(1, 28, 28, 1)"
            ]
          },
          "execution_count": 31,
          "metadata": {},
          "output_type": "execute_result"
        }
      ],
      "source": [
        "resizedimgnormalization2.shape"
      ]
    },
    {
      "cell_type": "code",
      "execution_count": 32,
      "metadata": {
        "id": "t6X9nI0GzR0O"
      },
      "outputs": [],
      "source": [
        "predictionsbaru = model.predict([resizedimgnormalization2])\n"
      ]
    },
    {
      "cell_type": "code",
      "execution_count": 33,
      "metadata": {
        "colab": {
          "base_uri": "https://localhost:8080/"
        },
        "id": "AJpYCpgBzZfB",
        "outputId": "89f878e0-cd32-44d9-e816-503cb695f1c6"
      },
      "outputs": [
        {
          "name": "stdout",
          "output_type": "stream",
          "text": [
            "7\n"
          ]
        }
      ],
      "source": [
        "print(np.argmax(predictionsbaru))"
      ]
    }
  ],
  "metadata": {
    "colab": {
      "collapsed_sections": [],
      "name": "CNN HandWritten Digit Classification.ipynb",
      "provenance": []
    },
    "kernelspec": {
      "display_name": "Python 3",
      "name": "python3"
    },
    "language_info": {
      "codemirror_mode": {
        "name": "ipython",
        "version": 3
      },
      "file_extension": ".py",
      "mimetype": "text/x-python",
      "name": "python",
      "nbconvert_exporter": "python",
      "pygments_lexer": "ipython3",
      "version": "3.7.4"
    }
  },
  "nbformat": 4,
  "nbformat_minor": 0
}
